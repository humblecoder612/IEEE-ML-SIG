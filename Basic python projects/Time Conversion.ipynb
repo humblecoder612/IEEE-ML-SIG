{
 "cells": [
  {
   "cell_type": "markdown",
   "metadata": {},
   "source": [
    "# AIM - To convert 12 hour clock time to 24 hour clock time\n",
    "## This code makes use  of -\n",
    "### -If statements.\n",
    "### -String slicing and conacatenation.\n",
    "### -String join method."
   ]
  },
  {
   "cell_type": "code",
   "execution_count": 1,
   "metadata": {},
   "outputs": [],
   "source": [
    "def timeConversion(s):\n",
    "    if s[-2:] =='AM' and s[:2] != '12':\n",
    "        s = s[:8]\n",
    "        return s\n",
    "    elif s[-2:] == 'AM' and s[:2] =='12':\n",
    "        x = '00'\n",
    "        y = s[2:8]\n",
    "        s = x + y\n",
    "        # or use join method\n",
    "        #s= ''.join([x,y])\n",
    "        return s\n",
    "    elif s[-2:] =='PM' and s[:2] =='12':\n",
    "        s = s[:8]\n",
    "        return s\n",
    "\n",
    "    elif s[-2:] == 'PM' and s[:2] != '12':\n",
    "        x = int(s[:2]) + 12\n",
    "        x = str(x)\n",
    "        y = s[2:8]\n",
    "        s = ''.join([x,y])\n",
    "        # or use concatenation\n",
    "        # s = x + y\n",
    "        return s"
   ]
  },
  {
   "cell_type": "code",
   "execution_count": 2,
   "metadata": {},
   "outputs": [],
   "source": [
    "testcase_1 = '07:05:45PM'\n",
    "testcase_2 = '09:16:18PM'\n",
    "testcase_3 = '02:56:06AM'\n",
    "testcase_4 = '03:25:48AM'\n",
    "testcase_4 = '05:55:05PM'\n",
    "testcase_5 = '07:55:64AM'\n",
    "testcase_6 = '12:15:24AM'"
   ]
  },
  {
   "cell_type": "code",
   "execution_count": 3,
   "metadata": {},
   "outputs": [
    {
     "data": {
      "text/plain": [
       "'19:05:45'"
      ]
     },
     "execution_count": 3,
     "metadata": {},
     "output_type": "execute_result"
    }
   ],
   "source": [
    "timeConversion(testcase_1)"
   ]
  },
  {
   "cell_type": "code",
   "execution_count": null,
   "metadata": {},
   "outputs": [],
   "source": [
    "timeConversion(testcase_2)"
   ]
  },
  {
   "cell_type": "code",
   "execution_count": null,
   "metadata": {},
   "outputs": [],
   "source": [
    "timeConversion(testcase_3)"
   ]
  },
  {
   "cell_type": "code",
   "execution_count": 3,
   "metadata": {},
   "outputs": [
    {
     "data": {
      "text/plain": [
       "'00:15:24'"
      ]
     },
     "execution_count": 3,
     "metadata": {},
     "output_type": "execute_result"
    }
   ],
   "source": [
    "timeConversion(testcase_6)"
   ]
  },
  {
   "cell_type": "code",
   "execution_count": null,
   "metadata": {},
   "outputs": [],
   "source": []
  }
 ],
 "metadata": {
  "kernelspec": {
   "display_name": "Python 3",
   "language": "python",
   "name": "python3"
  },
  "language_info": {
   "codemirror_mode": {
    "name": "ipython",
    "version": 3
   },
   "file_extension": ".py",
   "mimetype": "text/x-python",
   "name": "python",
   "nbconvert_exporter": "python",
   "pygments_lexer": "ipython3",
   "version": "3.7.4"
  }
 },
 "nbformat": 4,
 "nbformat_minor": 2
}
