{
 "cells": [
  {
   "cell_type": "markdown",
   "metadata": {},
   "source": [
    "# Derivation of Linear Regression.\n",
    "![](Images/graph1.png)"
   ]
  },
  {
   "cell_type": "markdown",
   "metadata": {},
   "source": [
    "### 1. Given N inputs and outputs…\n",
    "\n",
    "![](Images/1.png)"
   ]
  },
  {
   "cell_type": "markdown",
   "metadata": {},
   "source": [
    "### 2. We define the line of best fit line as…\n",
    "\n",
    "![](Images/2.png)"
   ]
  },
  {
   "cell_type": "markdown",
   "metadata": {},
   "source": [
    "### 3. Such that the best fit line looks to minimize the cost function we named S…\n",
    "\n",
    "![](Images/3.png)"
   ]
  },
  {
   "cell_type": "markdown",
   "metadata": {},
   "source": [
    "###  For our reference, we will input the line of best fit into our cost function distributing the subtraction, resulting in…\n",
    "\n",
    "![](Images/4.png)"
   ]
  },
  {
   "cell_type": "markdown",
   "metadata": {},
   "source": [
    "### 4. To minimize our cost function, S, we must find where the first derivative of S is equal to 0 with respect to a and B. The closer a and B are to 0, the less the total error for each point is. Let’s start with the partial derivative of a first.\n",
    "\n",
    "![](Images/5.png)"
   ]
  },
  {
   "cell_type": "markdown",
   "metadata": {},
   "source": [
    "# Finding a\n",
    "\n",
    "![](Images/6.png)"
   ]
  },
  {
   "cell_type": "markdown",
   "metadata": {},
   "source": [
    "### 5. Use the chain rule by starting with the exponent and then the equation between the parentheses. Notice, taking the derivative of the equation between the parentheses simplifies it to -1.\n",
    "\n",
    "![](Images/7.png)"
   ]
  },
  {
   "cell_type": "markdown",
   "metadata": {},
   "source": [
    "## 6. Let’s do something semi clever. Let’s break the summation into 3 parts and pull the constant B outside the summation\n",
    "\n",
    "![](https://cdn-images-1.medium.com/max/1043/1*EkWA46l-qMkvtzpDxhuodA.png)"
   ]
  },
  {
   "cell_type": "markdown",
   "metadata": {},
   "source": [
    "## 7. We notice that summation of a to n is simply…\n",
    "\n",
    "![](https://cdn-images-1.medium.com/max/1043/1*HJJpoGjM60N6pztGRh06sQ.png)"
   ]
  },
  {
   "cell_type": "markdown",
   "metadata": {},
   "source": [
    "## 8. Substituting this back in and rearranging B, give us…\n",
    "\n",
    "![](https://cdn-images-1.medium.com/max/1043/1*2qCzJT6V7ukgjoFV30DaSg.png)"
   ]
  },
  {
   "cell_type": "markdown",
   "metadata": {},
   "source": [
    "## 9. We’re almost there! The last thing we need to do is solve for a, so we add na to both sides and divide by n.\n",
    "\n",
    "![](https://cdn-images-1.medium.com/max/1043/1*jLlu68DYDfsnXV0jE4aiGw.png)"
   ]
  },
  {
   "cell_type": "markdown",
   "metadata": {},
   "source": [
    "## Check this out! The two summations of Y and x divided by the number of observations is simply the mean :). So after all that work, minimizing the cost function of S with respect to a is simply…\n",
    "\n",
    "![](https://cdn-images-1.medium.com/max/1043/1*DItN9YstG4OAOatyNJa6cA.png)"
   ]
  },
  {
   "cell_type": "markdown",
   "metadata": {},
   "source": [
    "# Finding B\n",
    "\n",
    "## 1. We’ve minimized the cost function of S with respect to a. Let’s find the last part which is S with respect to b.\n",
    "\n",
    "![](https://cdn-images-1.medium.com/max/1043/1*IwWCl-OgPGSTJwE1UvAJyA.png)"
   ]
  },
  {
   "cell_type": "markdown",
   "metadata": {},
   "source": [
    "![](https://cdn-images-1.medium.com/max/1043/1*Bs2r9MFuuBd1I9cNd-ALmw.png)"
   ]
  },
  {
   "cell_type": "markdown",
   "metadata": {},
   "source": [
    "## 2. Let’s strip out the -2 and divide it by both sides."
   ]
  },
  {
   "cell_type": "markdown",
   "metadata": {},
   "source": [
    "![](https://cdn-images-1.medium.com/max/1043/1*zX_JncHZqUlOcUrEIw4Cxg.png)"
   ]
  },
  {
   "cell_type": "markdown",
   "metadata": {},
   "source": [
    "## 3. Let’s distribute the x for ease of viewing.\n",
    "\n",
    "![](https://cdn-images-1.medium.com/max/1043/1*t9HNFA6yGMwh4z5UWpvl1A.png)"
   ]
  },
  {
   "cell_type": "markdown",
   "metadata": {},
   "source": [
    "##  Now, let’s do something creative. Remember we already figured out a? Let’s substitute a (derived formula below) into the partial derivative of S with respect to B above. We’re doing this so we have a function of a and B in terms of only x and Y."
   ]
  },
  {
   "cell_type": "markdown",
   "metadata": {},
   "source": [
    "![](https://cdn-images-1.medium.com/max/1043/1*DItN9YstG4OAOatyNJa6cA.png)\n",
    "![](https://cdn-images-1.medium.com/max/1043/1*H-tKxqHg50e_8UMx7gxeMA.png)"
   ]
  },
  {
   "cell_type": "markdown",
   "metadata": {},
   "source": [
    "![](https://cdn-images-1.medium.com/max/1043/1*plsB8V6qfdEnPV-xn5UW8g.png)"
   ]
  },
  {
   "cell_type": "markdown",
   "metadata": {},
   "source": [
    "### This looks messy but algebra kicks ass in this front. Let’s split up the sum into two sums."
   ]
  },
  {
   "cell_type": "markdown",
   "metadata": {},
   "source": [
    "![](https://cdn-images-1.medium.com/max/1043/1*rYcuirM1qg60UG84vr48pQ.png)"
   ]
  },
  {
   "cell_type": "markdown",
   "metadata": {},
   "source": [
    "![](https://cdn-images-1.medium.com/max/1043/1*1-Rhdw9rkKGjcsE8xUj58w.png)"
   ]
  },
  {
   "cell_type": "markdown",
   "metadata": {},
   "source": [
    "![](https://cdn-images-1.medium.com/max/1043/1*mG-E3M2Oml5xfYsXVKXQ6A.png)"
   ]
  },
  {
   "cell_type": "markdown",
   "metadata": {},
   "source": [
    "## There we have it! We have now isolated B and a in terms of x and Y. You might think to yourself, wow….this looks like an awful formula! Don’t fret, there are simpler versions by manipulating the formula further — you can check those out here."
   ]
  },
  {
   "cell_type": "markdown",
   "metadata": {},
   "source": [
    "![](https://cdn-images-1.medium.com/max/1043/1*mG-E3M2Oml5xfYsXVKXQ6A.png)"
   ]
  },
  {
   "cell_type": "code",
   "execution_count": null,
   "metadata": {},
   "outputs": [],
   "source": []
  },
  {
   "cell_type": "code",
   "execution_count": null,
   "metadata": {},
   "outputs": [],
   "source": []
  },
  {
   "cell_type": "code",
   "execution_count": null,
   "metadata": {},
   "outputs": [],
   "source": []
  },
  {
   "cell_type": "code",
   "execution_count": null,
   "metadata": {},
   "outputs": [],
   "source": []
  },
  {
   "cell_type": "code",
   "execution_count": null,
   "metadata": {},
   "outputs": [],
   "source": []
  }
 ],
 "metadata": {
  "kernelspec": {
   "display_name": "Python 3",
   "language": "python",
   "name": "python3"
  },
  "language_info": {
   "codemirror_mode": {
    "name": "ipython",
    "version": 3
   },
   "file_extension": ".py",
   "mimetype": "text/x-python",
   "name": "python",
   "nbconvert_exporter": "python",
   "pygments_lexer": "ipython3",
   "version": "3.7.1"
  }
 },
 "nbformat": 4,
 "nbformat_minor": 2
}
